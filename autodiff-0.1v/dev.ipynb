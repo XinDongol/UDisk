{
 "cells": [
  {
   "cell_type": "markdown",
   "metadata": {},
   "source": [
    "## Test Forward Propagation"
   ]
  },
  {
   "cell_type": "code",
   "execution_count": 1,
   "metadata": {},
   "outputs": [],
   "source": [
    "import numpy as np"
   ]
  },
  {
   "cell_type": "code",
   "execution_count": 2,
   "metadata": {},
   "outputs": [
    {
     "name": "stdout",
     "output_type": "stream",
     "text": [
      "((x2*x2)+(x2*x3))\n"
     ]
    }
   ],
   "source": [
    "import autodiff as ad\n",
    "x2 = ad.Variable(name = \"x2\")\n",
    "x3 = ad.Variable(name = \"x3\")\n",
    "\n",
    "y = x2 * x2 + x2 * x3\n",
    "print(y)"
   ]
  },
  {
   "cell_type": "code",
   "execution_count": 3,
   "metadata": {},
   "outputs": [
    {
     "name": "stdout",
     "output_type": "stream",
     "text": [
      "init val_map: {x2: 2, x3: 5}\n",
      "topo_order: [x2, (x2*x2), x3, (x2*x3), ((x2*x2)+(x2*x3))]\n",
      "------------------------------\n",
      "0 x2\n",
      "------------------------------\n",
      "1 (x2*x2)\n",
      "inputs: 1 [x2, x2]\n",
      "inputs map: 1 [2, 2]\n",
      "------------------------------\n",
      "2 x3\n",
      "------------------------------\n",
      "3 (x2*x3)\n",
      "inputs: 3 [x2, x3]\n",
      "inputs map: 3 [2, 5]\n",
      "------------------------------\n",
      "4 ((x2*x2)+(x2*x3))\n",
      "inputs: 4 [(x2*x2), (x2*x3)]\n",
      "inputs map: 4 [4, 10]\n"
     ]
    }
   ],
   "source": [
    "executor = ad.Executor([y])\n",
    "y_val = executor.run(feed_dict={\n",
    "    x2 : 2,\n",
    "    x3 : 5\n",
    "})"
   ]
  },
  {
   "cell_type": "code",
   "execution_count": 4,
   "metadata": {},
   "outputs": [
    {
     "name": "stdout",
     "output_type": "stream",
     "text": [
      "[14]\n"
     ]
    }
   ],
   "source": [
    "print(y_val)"
   ]
  },
  {
   "cell_type": "markdown",
   "metadata": {},
   "source": [
    "## Test Gradient of AddOp and MulOp"
   ]
  },
  {
   "cell_type": "code",
   "execution_count": 5,
   "metadata": {},
   "outputs": [
    {
     "name": "stdout",
     "output_type": "stream",
     "text": [
      "[((x2*x2)+(x2*x3)), (x2*x3), x3, (x2*x2), x2]\n",
      "------------------------------\n",
      "{((x2*x2)+(x2*x3)): [Oneslike(((x2*x2)+(x2*x3)))]}\n",
      "------------------------------\n"
     ]
    }
   ],
   "source": [
    "node_to_output_grads_list = {}\n",
    "node_to_output_grads_list[y] = [ad.oneslike_op(y)]\n",
    "node_to_output_grad = {}\n",
    "reverse_topo_order = list(reversed(ad.find_topo_sort([y])))\n",
    "\n",
    "print(reverse_topo_order)\n",
    "print('-'*30)\n",
    "print(node_to_output_grads_list)\n",
    "print('-'*30)"
   ]
  },
  {
   "cell_type": "code",
   "execution_count": 6,
   "metadata": {},
   "outputs": [],
   "source": [
    "def pretty(name, d, indent=0):\n",
    "    print(name+':')\n",
    "    for key, value in d.items():\n",
    "        print('\\t' * indent + str(key))\n",
    "        if isinstance(value, dict):\n",
    "            pretty(value, indent+1)\n",
    "        else:\n",
    "            print('\\t' * (indent+1) + str(value))"
   ]
  },
  {
   "cell_type": "code",
   "execution_count": 7,
   "metadata": {},
   "outputs": [
    {
     "name": "stdout",
     "output_type": "stream",
     "text": [
      "------------------------------\n",
      "0 ((x2*x2)+(x2*x3))\n",
      "op <autodiff.AddOp object at 0x7fac1396c208>\n",
      "grad list [Oneslike(((x2*x2)+(x2*x3)))]\n",
      "grad: Oneslike(((x2*x2)+(x2*x3)))\n",
      "inp_grads: [Oneslike(((x2*x2)+(x2*x3))), Oneslike(((x2*x2)+(x2*x3)))]\n",
      "inp: [(x2*x2), (x2*x3)]\n",
      "------------------------------\n",
      "1 (x2*x3)\n",
      "op <autodiff.MulOp object at 0x7fac1396c240>\n",
      "grad list [Oneslike(((x2*x2)+(x2*x3)))]\n",
      "grad: Oneslike(((x2*x2)+(x2*x3)))\n",
      "inp_grads: [(Oneslike(((x2*x2)+(x2*x3)))*x3), (Oneslike(((x2*x2)+(x2*x3)))*x2)]\n",
      "inp: [x2, x3]\n",
      "------------------------------\n",
      "2 x3\n",
      "op <autodiff.PlaceholderOp object at 0x7fac1396c320>\n",
      "grad list [(Oneslike(((x2*x2)+(x2*x3)))*x2)]\n",
      "grad: (Oneslike(((x2*x2)+(x2*x3)))*x2)\n",
      "inp_grads: None\n",
      "inp: []\n",
      "------------------------------\n",
      "3 (x2*x2)\n",
      "op <autodiff.MulOp object at 0x7fac1396c240>\n",
      "grad list [Oneslike(((x2*x2)+(x2*x3)))]\n",
      "grad: Oneslike(((x2*x2)+(x2*x3)))\n",
      "inp_grads: [(Oneslike(((x2*x2)+(x2*x3)))*x2), (Oneslike(((x2*x2)+(x2*x3)))*x2)]\n",
      "inp: [x2, x2]\n",
      "------------------------------\n",
      "4 x2\n",
      "op <autodiff.PlaceholderOp object at 0x7fac1396c320>\n",
      "grad list [(Oneslike(((x2*x2)+(x2*x3)))*x3), (Oneslike(((x2*x2)+(x2*x3)))*x2), (Oneslike(((x2*x2)+(x2*x3)))*x2)]\n",
      "grad: (((Oneslike(((x2*x2)+(x2*x3)))*x3)+(Oneslike(((x2*x2)+(x2*x3)))*x2))+(Oneslike(((x2*x2)+(x2*x3)))*x2))\n",
      "inp_grads: None\n",
      "inp: []\n",
      "\n",
      " node_to_output_grads_list:\n",
      "((x2*x2)+(x2*x3))\n",
      "\t[Oneslike(((x2*x2)+(x2*x3)))]\n",
      "(x2*x2)\n",
      "\t[Oneslike(((x2*x2)+(x2*x3)))]\n",
      "(x2*x3)\n",
      "\t[Oneslike(((x2*x2)+(x2*x3)))]\n",
      "x2\n",
      "\t[(Oneslike(((x2*x2)+(x2*x3)))*x3), (Oneslike(((x2*x2)+(x2*x3)))*x2), (Oneslike(((x2*x2)+(x2*x3)))*x2)]\n",
      "x3\n",
      "\t[(Oneslike(((x2*x2)+(x2*x3)))*x2)]\n",
      "\n",
      " node_to_output_grad:\n",
      "((x2*x2)+(x2*x3))\n",
      "\tOneslike(((x2*x2)+(x2*x3)))\n",
      "(x2*x3)\n",
      "\tOneslike(((x2*x2)+(x2*x3)))\n",
      "x3\n",
      "\t(Oneslike(((x2*x2)+(x2*x3)))*x2)\n",
      "(x2*x2)\n",
      "\tOneslike(((x2*x2)+(x2*x3)))\n",
      "x2\n",
      "\t(((Oneslike(((x2*x2)+(x2*x3)))*x3)+(Oneslike(((x2*x2)+(x2*x3)))*x2))+(Oneslike(((x2*x2)+(x2*x3)))*x2))\n",
      "------------------------------\n",
      "[(((Oneslike(((x2*x2)+(x2*x3)))*x3)+(Oneslike(((x2*x2)+(x2*x3)))*x2))+(Oneslike(((x2*x2)+(x2*x3)))*x2)), (Oneslike(((x2*x2)+(x2*x3)))*x2)]\n"
     ]
    }
   ],
   "source": [
    "for _idx, node in enumerate(reverse_topo_order):\n",
    "    print('-'*30)\n",
    "    print(_idx, node)\n",
    "    print('op', node.op)\n",
    "    print('grad list', node_to_output_grads_list[node])\n",
    "    grad = ad.sum_node_list(node_to_output_grads_list[node])\n",
    "    node_to_output_grad[node] = grad\n",
    "    input_grads = node.op.gradient(node, grad)\n",
    "    \n",
    "    print('grad:', grad)\n",
    "    print('inp_grads:', input_grads)\n",
    "    print('inp:', node.inputs)\n",
    "    for _i, inp_node in enumerate(node.inputs):\n",
    "        node_to_output_grads_list[inp_node] = \\\n",
    "        node_to_output_grads_list[inp_node] + [input_grads[_i]] \\\n",
    "        if inp_node in node_to_output_grads_list.keys()\\\n",
    "        else \\\n",
    "        [input_grads[_i]]\n",
    "    \n",
    "\n",
    "\n",
    "grad_node_list = [node_to_output_grad[node] for node in [x2,x3]]        \n",
    "        \n",
    "pretty('\\n node_to_output_grads_list', node_to_output_grads_list)\n",
    "pretty('\\n node_to_output_grad', node_to_output_grad)\n",
    "\n",
    "print('-'*30)\n",
    "print(grad_node_list)"
   ]
  },
  {
   "cell_type": "code",
   "execution_count": 8,
   "metadata": {},
   "outputs": [
    {
     "name": "stdout",
     "output_type": "stream",
     "text": [
      "init val_map: {x2: array([2.]), x3: array([5.])}\n",
      "topo_order: [x2, (x2*x2), x3, (x2*x3), ((x2*x2)+(x2*x3)), Oneslike(((x2*x2)+(x2*x3))), (Oneslike(((x2*x2)+(x2*x3)))*x3), (Oneslike(((x2*x2)+(x2*x3)))*x2), ((Oneslike(((x2*x2)+(x2*x3)))*x3)+(Oneslike(((x2*x2)+(x2*x3)))*x2)), (Oneslike(((x2*x2)+(x2*x3)))*x2), (((Oneslike(((x2*x2)+(x2*x3)))*x3)+(Oneslike(((x2*x2)+(x2*x3)))*x2))+(Oneslike(((x2*x2)+(x2*x3)))*x2)), (Oneslike(((x2*x2)+(x2*x3)))*x2)]\n",
      "------------------------------\n",
      "0 x2\n",
      "------------------------------\n",
      "1 (x2*x2)\n",
      "inputs: 1 [x2, x2]\n",
      "inputs map: 1 [array([2.]), array([2.])]\n",
      "------------------------------\n",
      "2 x3\n",
      "------------------------------\n",
      "3 (x2*x3)\n",
      "inputs: 3 [x2, x3]\n",
      "inputs map: 3 [array([2.]), array([5.])]\n",
      "------------------------------\n",
      "4 ((x2*x2)+(x2*x3))\n",
      "inputs: 4 [(x2*x2), (x2*x3)]\n",
      "inputs map: 4 [array([4.]), array([10.])]\n",
      "------------------------------\n",
      "5 Oneslike(((x2*x2)+(x2*x3)))\n",
      "inputs: 5 [((x2*x2)+(x2*x3))]\n",
      "inputs map: 5 [array([14.])]\n",
      "------------------------------\n",
      "6 (Oneslike(((x2*x2)+(x2*x3)))*x3)\n",
      "inputs: 6 [Oneslike(((x2*x2)+(x2*x3))), x3]\n",
      "inputs map: 6 [array([1.]), array([5.])]\n",
      "------------------------------\n",
      "7 (Oneslike(((x2*x2)+(x2*x3)))*x2)\n",
      "inputs: 7 [Oneslike(((x2*x2)+(x2*x3))), x2]\n",
      "inputs map: 7 [array([1.]), array([2.])]\n",
      "------------------------------\n",
      "8 ((Oneslike(((x2*x2)+(x2*x3)))*x3)+(Oneslike(((x2*x2)+(x2*x3)))*x2))\n",
      "inputs: 8 [(Oneslike(((x2*x2)+(x2*x3)))*x3), (Oneslike(((x2*x2)+(x2*x3)))*x2)]\n",
      "inputs map: 8 [array([5.]), array([2.])]\n",
      "------------------------------\n",
      "9 (Oneslike(((x2*x2)+(x2*x3)))*x2)\n",
      "inputs: 9 [Oneslike(((x2*x2)+(x2*x3))), x2]\n",
      "inputs map: 9 [array([1.]), array([2.])]\n",
      "------------------------------\n",
      "10 (((Oneslike(((x2*x2)+(x2*x3)))*x3)+(Oneslike(((x2*x2)+(x2*x3)))*x2))+(Oneslike(((x2*x2)+(x2*x3)))*x2))\n",
      "inputs: 10 [((Oneslike(((x2*x2)+(x2*x3)))*x3)+(Oneslike(((x2*x2)+(x2*x3)))*x2)), (Oneslike(((x2*x2)+(x2*x3)))*x2)]\n",
      "inputs map: 10 [array([7.]), array([2.])]\n",
      "------------------------------\n",
      "11 (Oneslike(((x2*x2)+(x2*x3)))*x2)\n",
      "inputs: 11 [Oneslike(((x2*x2)+(x2*x3))), x2]\n",
      "inputs map: 11 [array([1.]), array([2.])]\n"
     ]
    },
    {
     "data": {
      "text/plain": [
       "[array([9.]), array([2.])]"
      ]
     },
     "execution_count": 8,
     "metadata": {},
     "output_type": "execute_result"
    }
   ],
   "source": [
    "executor = ad.Executor(grad_node_list)\n",
    "executor.run(feed_dict = {x2 : np.ones(1)*2, x3 : np.ones(1)*5})"
   ]
  }
 ],
 "metadata": {
  "kernelspec": {
   "display_name": "Python 3",
   "language": "python",
   "name": "python3"
  },
  "language_info": {
   "codemirror_mode": {
    "name": "ipython",
    "version": 3
   },
   "file_extension": ".py",
   "mimetype": "text/x-python",
   "name": "python",
   "nbconvert_exporter": "python",
   "pygments_lexer": "ipython3",
   "version": "3.6.7"
  }
 },
 "nbformat": 4,
 "nbformat_minor": 4
}
